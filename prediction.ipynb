{
 "cells": [
  {
   "cell_type": "code",
   "execution_count": 5,
   "id": "994123f2",
   "metadata": {},
   "outputs": [
    {
     "name": "stdout",
     "output_type": "stream",
     "text": [
      "  Car_Name  Year  Selling_Price  Present_Price  Kms_Driven Fuel_Type  \\\n",
      "0     ritz  2014           3.35           5.59       27000    Petrol   \n",
      "1      sx4  2013           4.75           9.54       43000    Diesel   \n",
      "2     ciaz  2017           7.25           9.85        6900    Petrol   \n",
      "3  wagon r  2011           2.85           4.15        5200    Petrol   \n",
      "4    swift  2014           4.60           6.87       42450    Diesel   \n",
      "\n",
      "  Seller_Type Transmission  Owner  \n",
      "0      Dealer       Manual      0  \n",
      "1      Dealer       Manual      0  \n",
      "2      Dealer       Manual      0  \n",
      "3      Dealer       Manual      0  \n",
      "4      Dealer       Manual      0  \n"
     ]
    }
   ],
   "source": [
    "import pandas as pd\n",
    "df=pd.read_csv('car data.csv')\n",
    "print(df.head())"
   ]
  },
  {
   "cell_type": "code",
   "execution_count": 6,
   "id": "e3c8bd10",
   "metadata": {},
   "outputs": [
    {
     "name": "stdout",
     "output_type": "stream",
     "text": [
      "Car_Name         0\n",
      "Year             0\n",
      "Selling_Price    0\n",
      "Present_Price    0\n",
      "Kms_Driven       0\n",
      "Fuel_Type        0\n",
      "Seller_Type      0\n",
      "Transmission     0\n",
      "Owner            0\n",
      "dtype: int64\n"
     ]
    }
   ],
   "source": [
    "print(df.isnull().sum())"
   ]
  },
  {
   "cell_type": "code",
   "execution_count": 15,
   "id": "204dcebc",
   "metadata": {},
   "outputs": [
    {
     "name": "stdout",
     "output_type": "stream",
     "text": [
      "  Car_Name  Year  Selling_Price  Present_Price  Kms_Driven  Owner  \\\n",
      "0     ritz  2014           3.35           5.59       27000      0   \n",
      "1      sx4  2013           4.75           9.54       43000      0   \n",
      "2     ciaz  2017           7.25           9.85        6900      0   \n",
      "3  wagon r  2011           2.85           4.15        5200      0   \n",
      "4    swift  2014           4.60           6.87       42450      0   \n",
      "\n",
      "   Fuel_Type_Diesel  Fuel_Type_Petrol  Transmission_Manual  \\\n",
      "0             False              True                 True   \n",
      "1              True             False                 True   \n",
      "2             False              True                 True   \n",
      "3             False              True                 True   \n",
      "4              True             False                 True   \n",
      "\n",
      "   Seller_Type_Individual  \n",
      "0                   False  \n",
      "1                   False  \n",
      "2                   False  \n",
      "3                   False  \n",
      "4                   False  \n"
     ]
    }
   ],
   "source": [
    "import pandas as pd\n",
    "categorical_cols = ['Fuel_Type','Transmission','Seller_Type']\n",
    "df_encoded = pd.get_dummies(df, columns=categorical_cols, drop_first=True)\n",
    "print(df_encoded.head())"
   ]
  },
  {
   "cell_type": "code",
   "execution_count": 16,
   "id": "92ec9b07",
   "metadata": {},
   "outputs": [
    {
     "name": "stdout",
     "output_type": "stream",
     "text": [
      "--- Features (X) ---\n",
      "   Year  Present_Price  Kms_Driven  Owner  Fuel_Type_Diesel  Fuel_Type_Petrol  \\\n",
      "0  2014           5.59       27000      0             False              True   \n",
      "1  2013           9.54       43000      0              True             False   \n",
      "2  2017           9.85        6900      0             False              True   \n",
      "3  2011           4.15        5200      0             False              True   \n",
      "4  2014           6.87       42450      0              True             False   \n",
      "\n",
      "   Transmission_Manual  Seller_Type_Individual  \n",
      "0                 True                   False  \n",
      "1                 True                   False  \n",
      "2                 True                   False  \n",
      "3                 True                   False  \n",
      "4                 True                   False  \n",
      "\n",
      "--- Target (y) ---\n",
      "0    3.35\n",
      "1    4.75\n",
      "2    7.25\n",
      "3    2.85\n",
      "4    4.60\n",
      "Name: Selling_Price, dtype: float64\n"
     ]
    }
   ],
   "source": [
    "y = df_encoded['Selling_Price']\n",
    "X = df_encoded.drop(columns=['Selling_Price', 'Car_Name'])\n",
    "\n",
    "print(\"--- Features (X) ---\")\n",
    "print(X.head())\n",
    "\n",
    "print(\"\\n--- Target (y) ---\")\n",
    "print(y.head())"
   ]
  },
  {
   "cell_type": "code",
   "execution_count": 17,
   "id": "34e4d9cc",
   "metadata": {},
   "outputs": [
    {
     "name": "stdout",
     "output_type": "stream",
     "text": [
      "Shape of X_train:  (240, 8)\n",
      "Shape of y_train:  (240,)\n"
     ]
    }
   ],
   "source": [
    "from sklearn.model_selection import train_test_split\n",
    "X_train, X_test, y_train, y_test = train_test_split(X, y, test_size=0.2, random_state=42)\n",
    "print(\"Shape of X_train: \", X_train.shape)\n",
    "print(\"Shape of y_train: \", y_train.shape)"
   ]
  },
  {
   "cell_type": "code",
   "execution_count": 18,
   "id": "980a8dd9",
   "metadata": {},
   "outputs": [
    {
     "name": "stdout",
     "output_type": "stream",
     "text": [
      "Training the model...\n",
      "Training Complete.\n",
      "\n",
      "The R-Squared score of the model is: 0.97\n"
     ]
    }
   ],
   "source": [
    "from sklearn.ensemble import RandomForestRegressor\n",
    "from sklearn.metrics import r2_score\n",
    "\n",
    "model = RandomForestRegressor(random_state=42)\n",
    "\n",
    "print(\"Training the model...\")\n",
    "model.fit(X_train, y_train)\n",
    "print(\"Training Complete.\")\n",
    "\n",
    "predictions = model.predict(X_test)\n",
    "\n",
    "score = r2_score(y_test, predictions)\n",
    "\n",
    "print(f\"\\nThe R-Squared score of the model is: {score:.2f}\")"
   ]
  },
  {
   "cell_type": "code",
   "execution_count": 19,
   "id": "67cd6c74",
   "metadata": {},
   "outputs": [
    {
     "name": "stdout",
     "output_type": "stream",
     "text": [
      "Training the XGBoost Model...\n",
      "Training complete.\n",
      "\n",
      "The R-2 Squared Score of the model is: 0.96\n"
     ]
    }
   ],
   "source": [
    "import xgboost as xgb\n",
    "from sklearn.model_selection import train_test_split\n",
    "from sklearn.metrics import r2_score\n",
    "\n",
    "current_year=2025\n",
    "df_final = df_encoded.copy()\n",
    "df_final[\"Car_Age\"] = current_year - df_final['Year']\n",
    "\n",
    "df_final = df_final.drop(columns=['Year', 'Car_Name'])\n",
    "\n",
    "y = df_final['Selling_Price']\n",
    "X = df_final.drop(columns=['Selling_Price'])\n",
    "\n",
    "X_train, X_test, y_train, y_test = train_test_split(X, y, test_size=0.2, random_state=42)\n",
    "\n",
    "print(\"Training the XGBoost Model...\")\n",
    "\n",
    "xgb_model = xgb.XGBRegressor(random_state=42)\n",
    "\n",
    "xgb_model.fit(X_train, y_train)\n",
    "print(\"Training complete.\")\n",
    "\n",
    "predictions = xgb_model.predict(X_test)\n",
    "score = r2_score(y_test, predictions)\n",
    "\n",
    "print(f\"\\nThe R-2 Squared Score of the model is: {score:.2f}\")"
   ]
  },
  {
   "cell_type": "code",
   "execution_count": null,
   "id": "5b8ab24f",
   "metadata": {},
   "outputs": [],
   "source": []
  }
 ],
 "metadata": {
  "kernelspec": {
   "display_name": ".venv",
   "language": "python",
   "name": "python3"
  },
  "language_info": {
   "codemirror_mode": {
    "name": "ipython",
    "version": 3
   },
   "file_extension": ".py",
   "mimetype": "text/x-python",
   "name": "python",
   "nbconvert_exporter": "python",
   "pygments_lexer": "ipython3",
   "version": "3.12.5"
  }
 },
 "nbformat": 4,
 "nbformat_minor": 5
}
